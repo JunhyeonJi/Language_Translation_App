{
 "cells": [
  {
   "cell_type": "code",
   "execution_count": 1,
   "metadata": {},
   "outputs": [],
   "source": [
    "from googletrans import Translator"
   ]
  },
  {
   "cell_type": "code",
   "execution_count": 3,
   "metadata": {},
   "outputs": [],
   "source": [
    "translator = Translator()"
   ]
  },
  {
   "cell_type": "code",
   "execution_count": 6,
   "metadata": {},
   "outputs": [],
   "source": [
    "translator = Translator(service_urls=['translate.google.com',\n",
    "                                      'translate.google.co.kr']\n",
    "                        )"
   ]
  },
  {
   "cell_type": "code",
   "execution_count": 7,
   "metadata": {},
   "outputs": [
    {
     "name": "stdout",
     "output_type": "stream",
     "text": [
      "Unexpected exception formatting exception. Falling back to standard exception\n"
     ]
    },
    {
     "name": "stderr",
     "output_type": "stream",
     "text": [
      "Traceback (most recent call last):\n",
      "  File \"c:\\Users\\TeeFaith\\anaconda3\\envs\\kenny\\Lib\\site-packages\\IPython\\core\\interactiveshell.py\", line 3548, in run_code\n",
      "    exec(code_obj, self.user_global_ns, self.user_ns)\n",
      "  File \"C:\\Users\\TeeFaith\\AppData\\Local\\Temp\\ipykernel_2636\\124469802.py\", line 1, in <module>\n",
      "    translator.detect('나는 괜찮아요')\n",
      "  File \"c:\\Users\\TeeFaith\\anaconda3\\envs\\kenny\\Lib\\site-packages\\googletrans\\client.py\", line 255, in detect\n",
      "    :rtype: :class:`list` (when a list is passed)\n",
      "           ^^^^^^^^^^^^^^^^^^^^^^^^^^^^^^^^^^^^^^^\n",
      "  File \"c:\\Users\\TeeFaith\\anaconda3\\envs\\kenny\\Lib\\site-packages\\googletrans\\client.py\", line 78, in _translate\n",
      "  File \"c:\\Users\\TeeFaith\\anaconda3\\envs\\kenny\\Lib\\site-packages\\googletrans\\gtoken.py\", line 194, in do\n",
      "    a %= 1000000  # int(1E6)\n",
      "    ^^^^^^^^^^^^^^\n",
      "  File \"c:\\Users\\TeeFaith\\anaconda3\\envs\\kenny\\Lib\\site-packages\\googletrans\\gtoken.py\", line 54, in _update\n",
      "    r = self.client.get(self.host)\n",
      "        ^^^^^^^^^^^^^^^^^^^^^^^^^^\n",
      "  File \"c:\\Users\\TeeFaith\\anaconda3\\envs\\kenny\\Lib\\site-packages\\httpx\\_client.py\", line 755, in get\n",
      "    return self.request(\n",
      "           ^^^^^^^^^^^^^\n",
      "  File \"c:\\Users\\TeeFaith\\anaconda3\\envs\\kenny\\Lib\\site-packages\\httpx\\_client.py\", line 600, in request\n",
      "    return self.send(\n",
      "           ^^^^^^^^^^\n",
      "  File \"c:\\Users\\TeeFaith\\anaconda3\\envs\\kenny\\Lib\\site-packages\\httpx\\_client.py\", line 620, in send\n",
      "    response = self.send_handling_redirects(\n",
      "               ^^^^^^^^^^^^^^^^^^^^^^^^^^^^^\n",
      "  File \"c:\\Users\\TeeFaith\\anaconda3\\envs\\kenny\\Lib\\site-packages\\httpx\\_client.py\", line 647, in send_handling_redirects\n",
      "    response = self.send_handling_auth(\n",
      "               ^^^^^^^^^^^^^^^^^^^^^^^^\n",
      "  File \"c:\\Users\\TeeFaith\\anaconda3\\envs\\kenny\\Lib\\site-packages\\httpx\\_client.py\", line 684, in send_handling_auth\n",
      "    response = self.send_single_request(request, timeout)\n",
      "               ^^^^^^^^^^^^^^^^^^^^^^^^^^^^^^^^^^^^^^^^^^\n",
      "  File \"c:\\Users\\TeeFaith\\anaconda3\\envs\\kenny\\Lib\\site-packages\\httpx\\_client.py\", line 714, in send_single_request\n",
      "    ) = transport.request(\n",
      "        ^^^^^^^^^^^^^^^^^^\n",
      "  File \"c:\\Users\\TeeFaith\\anaconda3\\envs\\kenny\\Lib\\site-packages\\httpcore\\_sync\\connection_pool.py\", line 152, in request\n",
      "    response = connection.request(\n",
      "               ^^^^^^^^^^^^^^^^^^^\n",
      "  File \"c:\\Users\\TeeFaith\\anaconda3\\envs\\kenny\\Lib\\site-packages\\httpcore\\_sync\\connection.py\", line 65, in request\n",
      "    self.socket = self._open_socket(timeout)\n",
      "                  ^^^^^^^^^^^^^^^^^^^^^^^^^^\n",
      "  File \"c:\\Users\\TeeFaith\\anaconda3\\envs\\kenny\\Lib\\site-packages\\httpcore\\_sync\\connection.py\", line 85, in _open_socket\n",
      "    return self.backend.open_tcp_stream(\n",
      "           ^^^^^^^^^^^^^^^^^^^^^^^^^^^^^\n",
      "  File \"c:\\Users\\TeeFaith\\anaconda3\\envs\\kenny\\Lib\\site-packages\\httpcore\\_backends\\sync.py\", line 133, in open_tcp_stream\n",
      "    with map_exceptions(exc_map):\n",
      "  File \"c:\\Users\\TeeFaith\\anaconda3\\envs\\kenny\\Lib\\contextlib.py\", line 155, in __exit__\n",
      "    self.gen.throw(typ, value, traceback)\n",
      "  File \"c:\\Users\\TeeFaith\\anaconda3\\envs\\kenny\\Lib\\site-packages\\httpcore\\_exceptions.py\", line 12, in map_exceptions\n",
      "    raise to_exc(exc) from None\n",
      "httpcore._exceptions.ConnectTimeout: timed out\n",
      "\n",
      "During handling of the above exception, another exception occurred:\n",
      "\n",
      "Traceback (most recent call last):\n",
      "  File \"c:\\Users\\TeeFaith\\anaconda3\\envs\\kenny\\Lib\\site-packages\\IPython\\core\\interactiveshell.py\", line 2142, in showtraceback\n",
      "    stb = self.InteractiveTB.structured_traceback(\n",
      "          ^^^^^^^^^^^^^^^^^^^^^^^^^^^^^^^^^^^^^^^^\n",
      "  File \"c:\\Users\\TeeFaith\\anaconda3\\envs\\kenny\\Lib\\site-packages\\IPython\\core\\ultratb.py\", line 1435, in structured_traceback\n",
      "    return FormattedTB.structured_traceback(\n",
      "           ^^^^^^^^^^^^^^^^^^^^^^^^^^^^^^^^^\n",
      "  File \"c:\\Users\\TeeFaith\\anaconda3\\envs\\kenny\\Lib\\site-packages\\IPython\\core\\ultratb.py\", line 1326, in structured_traceback\n",
      "    return VerboseTB.structured_traceback(\n",
      "           ^^^^^^^^^^^^^^^^^^^^^^^^^^^^^^^\n",
      "  File \"c:\\Users\\TeeFaith\\anaconda3\\envs\\kenny\\Lib\\site-packages\\IPython\\core\\ultratb.py\", line 1173, in structured_traceback\n",
      "    formatted_exception = self.format_exception_as_a_whole(etype, evalue, etb, number_of_lines_of_context,\n",
      "                          ^^^^^^^^^^^^^^^^^^^^^^^^^^^^^^^^^^^^^^^^^^^^^^^^^^^^^^^^^^^^^^^^^^^^^^^^^^^^^^^^\n",
      "  File \"c:\\Users\\TeeFaith\\anaconda3\\envs\\kenny\\Lib\\site-packages\\IPython\\core\\ultratb.py\", line 1088, in format_exception_as_a_whole\n",
      "    frames.append(self.format_record(record))\n",
      "                  ^^^^^^^^^^^^^^^^^^^^^^^^^^\n",
      "  File \"c:\\Users\\TeeFaith\\anaconda3\\envs\\kenny\\Lib\\site-packages\\IPython\\core\\ultratb.py\", line 970, in format_record\n",
      "    frame_info.lines, Colors, self.has_colors, lvals\n",
      "    ^^^^^^^^^^^^^^^^\n",
      "  File \"c:\\Users\\TeeFaith\\anaconda3\\envs\\kenny\\Lib\\site-packages\\IPython\\core\\ultratb.py\", line 792, in lines\n",
      "    return self._sd.lines\n",
      "           ^^^^^^^^^^^^^^\n",
      "  File \"c:\\Users\\TeeFaith\\anaconda3\\envs\\kenny\\Lib\\site-packages\\stack_data\\utils.py\", line 145, in cached_property_wrapper\n",
      "    value = obj.__dict__[self.func.__name__] = self.func(obj)\n",
      "                                               ^^^^^^^^^^^^^^\n",
      "  File \"c:\\Users\\TeeFaith\\anaconda3\\envs\\kenny\\Lib\\site-packages\\stack_data\\core.py\", line 734, in lines\n",
      "    pieces = self.included_pieces\n",
      "             ^^^^^^^^^^^^^^^^^^^^\n",
      "  File \"c:\\Users\\TeeFaith\\anaconda3\\envs\\kenny\\Lib\\site-packages\\stack_data\\utils.py\", line 145, in cached_property_wrapper\n",
      "    value = obj.__dict__[self.func.__name__] = self.func(obj)\n",
      "                                               ^^^^^^^^^^^^^^\n",
      "  File \"c:\\Users\\TeeFaith\\anaconda3\\envs\\kenny\\Lib\\site-packages\\stack_data\\core.py\", line 681, in included_pieces\n",
      "    pos = scope_pieces.index(self.executing_piece)\n",
      "                             ^^^^^^^^^^^^^^^^^^^^\n",
      "  File \"c:\\Users\\TeeFaith\\anaconda3\\envs\\kenny\\Lib\\site-packages\\stack_data\\utils.py\", line 145, in cached_property_wrapper\n",
      "    value = obj.__dict__[self.func.__name__] = self.func(obj)\n",
      "                                               ^^^^^^^^^^^^^^\n",
      "  File \"c:\\Users\\TeeFaith\\anaconda3\\envs\\kenny\\Lib\\site-packages\\stack_data\\core.py\", line 660, in executing_piece\n",
      "    return only(\n",
      "           ^^^^^\n",
      "  File \"c:\\Users\\TeeFaith\\anaconda3\\envs\\kenny\\Lib\\site-packages\\executing\\executing.py\", line 116, in only\n",
      "    raise NotOneValueFound('Expected one value, found 0')\n",
      "executing.executing.NotOneValueFound: Expected one value, found 0\n"
     ]
    }
   ],
   "source": [
    "translator.detect('나는 괜찮아요')\n",
    "translator.translate('내일 올 거에요')"
   ]
  }
 ],
 "metadata": {
  "kernelspec": {
   "display_name": "kenny",
   "language": "python",
   "name": "python3"
  },
  "language_info": {
   "codemirror_mode": {
    "name": "ipython",
    "version": 3
   },
   "file_extension": ".py",
   "mimetype": "text/x-python",
   "name": "python",
   "nbconvert_exporter": "python",
   "pygments_lexer": "ipython3",
   "version": "3.11.5"
  }
 },
 "nbformat": 4,
 "nbformat_minor": 2
}
